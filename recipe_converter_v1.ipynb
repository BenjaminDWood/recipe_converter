{
 "cells": [
  {
   "cell_type": "markdown",
   "id": "8909b3f3-db81-41fa-b0c5-9f6bc4b86310",
   "metadata": {},
   "source": [
    "#### Notes\n",
    "\n",
    "Regular expression to find every instance of a weight, usually with whatever unit of measurement comes after it. Saved an example below.\n",
    "\n",
    "Current expressions are omitting the 1/2 and 1/4 weights, would need to account for decimals too.\n",
    "\n",
    "Then, a loop to replace each one...\n",
    "\n",
    "Current Issues:\n",
    "\n",
    "1. The part in recipe where it says 'to make 1/2 to 3/4 cup', regex is only finding the second one\n",
    "2. The worst problem is that regex is finding lone fractions e.g. 1/4 tsp salt, and working fine, but with \"1 1/2 tbsp\", it only captures \"2 tbsp\" (RESOLVED)\n",
    "\n",
    "Further work:\n",
    "\n",
    "1. Testing with more recipes to ensure there aren't further formats that the regex will miss\n",
    "2. Converting common items e.g. salt into grams (could convert from the ml, or convert directly from tsp)"
   ]
  },
  {
   "cell_type": "code",
   "execution_count": 1,
   "id": "482d4ebe-9a8e-4cea-bd8c-4cb9668763c3",
   "metadata": {},
   "outputs": [],
   "source": [
    "# https://www.recipetineats.com/greek-chicken-gyros-with-tzatziki/comment-page-34/#recipe\n",
    "recipe = '''Ingredients\n",
    "▢2 lb / 1 kg chicken thigh fillets , boneless skinless\n",
    "Marinade\n",
    "▢3 large garlic cloves , minced (~ 3 tsp)\n",
    "▢1 tbsp white wine vinegar (or red wine or apple cider vinegar)\n",
    "▢3 tbsp lemon juice\n",
    "▢1 tbsp extra virgin olive oil\n",
    "▢3 tbsp Greek yogurt , preferably full fat\n",
    "▢1 1/2 tbsp dried oregano\n",
    "▢1 tsp salt\n",
    "▢Black pepper\n",
    "Tzatziki\n",
    "▢2 cucumbers (to make about 1/2 – 3/4 cup grated cucumber after squeezing out juice)\n",
    "▢1 1/4 cups Greek yoghurt , preferably full fat\n",
    "▢1 tbsp lemon juice\n",
    "▢1 tbsp extra virgin olive oil (or more if you want richer)\n",
    "▢1 garlic clove , minced\n",
    "▢1/4 tsp salt\n",
    "▢Black pepper\n",
    "Salad\n",
    "▢3 tomatoes , desseeded and diced\n",
    "▢3 cucumbers , diced\n",
    "▢1/2 red spanish onion , peeled and finely chopped\n",
    "▢1/4 cup fresh parsley leaves (optional)\n",
    "▢Salt and pepper\n",
    "To Serve\n",
    "▢4 to 6 pita breads or flat breads'''\n",
    "\n",
    "# https://www.allrecipes.com/apple-cider-hawaiian-roll-donuts-recipe-11786958\n",
    "recipe2 = '''1 (12-count) package) Hawaiian rolls\n",
    "\n",
    "1 cup apple pie filling\n",
    "\n",
    "2 (0.74 ounce) pouches apple cider powdered drink mix (such as Alpine Spiced Apple Cider®)\n",
    "\n",
    "5 tablespoons butter, divided\n",
    "\n",
    "1/2 cup sugar\n",
    "\n",
    "1 teaspoon cinnamon'''"
   ]
  },
  {
   "cell_type": "code",
   "execution_count": 2,
   "id": "3eb6a406-6a87-40ce-9a9c-9129e352e8ca",
   "metadata": {},
   "outputs": [],
   "source": [
    "import re"
   ]
  },
  {
   "cell_type": "code",
   "execution_count": 80,
   "id": "3d05b3dc-1475-48ed-a62b-ab5c9ae50cfa",
   "metadata": {},
   "outputs": [
    {
     "data": {
      "text/plain": [
       "[]"
      ]
     },
     "execution_count": 80,
     "metadata": {},
     "output_type": "execute_result"
    }
   ],
   "source": [
    "lb_reg.findall(recipe2)"
   ]
  },
  {
   "cell_type": "markdown",
   "id": "05c62f06-65de-461a-9f1a-e8206847c4a4",
   "metadata": {},
   "source": [
    "#### Master"
   ]
  },
  {
   "cell_type": "code",
   "execution_count": 19,
   "id": "87870ed1-6305-48fd-a3ed-8681337582fa",
   "metadata": {},
   "outputs": [],
   "source": [
    "#First digit could be a whole number, fraction, decimal, or a whole number followed by a fraction\n",
    "#This should capture the first one, regardless of what it is, then I'll parse it later in the function\n",
    "\n",
    "unit_reg = re.compile(r'''\n",
    "    ((\\d+\\s*\\d+/\\d+\n",
    "    |\\d+/\\d+\n",
    "    |\\d+\\.\\d+\n",
    "    |\\d+)\n",
    "    \\s*\n",
    "    (\\d+/\\d+)?\n",
    "    ([a-z]+))\n",
    "''', re.X|re.I)\n",
    "    "
   ]
  },
  {
   "cell_type": "code",
   "execution_count": 20,
   "id": "aacb3529-6041-438c-bda5-b5753ae42b3e",
   "metadata": {},
   "outputs": [
    {
     "data": {
      "text/plain": [
       "[('2 lb', '2', '', 'lb'),\n",
       " ('1 kg', '1', '', 'kg'),\n",
       " ('3 large', '3', '', 'large'),\n",
       " ('3 tsp', '3', '', 'tsp'),\n",
       " ('1 tbsp', '1', '', 'tbsp'),\n",
       " ('3 tbsp', '3', '', 'tbsp'),\n",
       " ('1 tbsp', '1', '', 'tbsp'),\n",
       " ('3 tbsp', '3', '', 'tbsp'),\n",
       " ('1 1/2 tbsp', '1 1/2', '', 'tbsp'),\n",
       " ('1 tsp', '1', '', 'tsp'),\n",
       " ('2 cucumbers', '2', '', 'cucumbers'),\n",
       " ('3/4 cup', '3/4', '', 'cup'),\n",
       " ('1 1/4 cups', '1 1/4', '', 'cups'),\n",
       " ('1 tbsp', '1', '', 'tbsp'),\n",
       " ('1 tbsp', '1', '', 'tbsp'),\n",
       " ('1 garlic', '1', '', 'garlic'),\n",
       " ('1/4 tsp', '1/4', '', 'tsp'),\n",
       " ('3 tomatoes', '3', '', 'tomatoes'),\n",
       " ('3 cucumbers', '3', '', 'cucumbers'),\n",
       " ('1/2 red', '1/2', '', 'red'),\n",
       " ('1/4 cup', '1/4', '', 'cup'),\n",
       " ('4 to', '4', '', 'to'),\n",
       " ('6 pita', '6', '', 'pita')]"
      ]
     },
     "execution_count": 20,
     "metadata": {},
     "output_type": "execute_result"
    }
   ],
   "source": [
    "unit_reg.findall(recipe)"
   ]
  },
  {
   "cell_type": "code",
   "execution_count": 272,
   "id": "fc2aaa89-3466-40ec-956b-335a20e0a53a",
   "metadata": {},
   "outputs": [],
   "source": [
    "msg = '2 3/4 cups of something'\n",
    "test_reg = re.compile(r'(\\d+|\\d+/\\d+)(?:\\s*)?(\\d+/\\d+)?') #This works..."
   ]
  },
  {
   "cell_type": "code",
   "execution_count": 278,
   "id": "2b436ead-745e-44a4-b3ef-0d4778b046b6",
   "metadata": {},
   "outputs": [
    {
     "data": {
      "text/plain": [
       "'2 3/4 cups'"
      ]
     },
     "execution_count": 278,
     "metadata": {},
     "output_type": "execute_result"
    }
   ],
   "source": [
    "res = test_reg.search(msg)\n",
    "res.group()"
   ]
  },
  {
   "cell_type": "code",
   "execution_count": 287,
   "id": "ef4c480c-8e95-40ca-8345-6f66ea5bc5ae",
   "metadata": {},
   "outputs": [
    {
     "data": {
      "text/plain": [
       "'2 3/4 cups'"
      ]
     },
     "execution_count": 287,
     "metadata": {},
     "output_type": "execute_result"
    }
   ],
   "source": [
    "msg_d = '1 1/4 cups Greek yoghurt'\n",
    "res_d = test_reg.search(msg)\n",
    "res_d.group()"
   ]
  },
  {
   "cell_type": "code",
   "execution_count": 291,
   "id": "c1a85210-d562-43c0-9f6b-6cf466baebc1",
   "metadata": {},
   "outputs": [
    {
     "data": {
      "text/plain": [
       "[('12', '1', '', '', '2'),\n",
       " ('1 cup', '1', '', '', 'cup'),\n",
       " ('0.74 ounce', '0.74', '', '', 'ounce'),\n",
       " ('5 tablespoons', '5', '', '', 'tablespoons'),\n",
       " ('1/2 cup', '1/2', '', '', 'cup'),\n",
       " ('1 teaspoon', '1', '', '', 'teaspoon')]"
      ]
     },
     "execution_count": 291,
     "metadata": {},
     "output_type": "execute_result"
    }
   ],
   "source": [
    "unit_reg.findall(recipe2)"
   ]
  },
  {
   "cell_type": "code",
   "execution_count": 297,
   "id": "4f2fd346-5720-4557-8154-f76a1a7e117b",
   "metadata": {},
   "outputs": [
    {
     "data": {
      "text/plain": [
       "[('2 lb', '2', '', 'lb'),\n",
       " ('1 kg', '1', '', 'kg'),\n",
       " ('3 large', '3', '', 'large'),\n",
       " ('3 tsp', '3', '', 'tsp'),\n",
       " ('1 tbsp', '1', '', 'tbsp'),\n",
       " ('3 tbsp', '3', '', 'tbsp'),\n",
       " ('1 tbsp', '1', '', 'tbsp'),\n",
       " ('3 tbsp', '3', '', 'tbsp'),\n",
       " ('1 1/2 tbsp', '1 1/2', '1/2', 'tbsp'),\n",
       " ('1 tsp', '1', '', 'tsp'),\n",
       " ('2 cucumbers', '2', '', 'cucumbers'),\n",
       " ('3/4 cup', '3/4', '', 'cup'),\n",
       " ('1 1/4 cups', '1 1/4', '1/4', 'cups'),\n",
       " ('1 tbsp', '1', '', 'tbsp'),\n",
       " ('1 tbsp', '1', '', 'tbsp'),\n",
       " ('1 garlic', '1', '', 'garlic'),\n",
       " ('1/4 tsp', '1/4', '', 'tsp'),\n",
       " ('3 tomatoes', '3', '', 'tomatoes'),\n",
       " ('3 cucumbers', '3', '', 'cucumbers'),\n",
       " ('1/2 red', '1/2', '', 'red'),\n",
       " ('1/4 cup', '1/4', '', 'cup'),\n",
       " ('4 to', '4', '', 'to'),\n",
       " ('6 pita', '6', '', 'pita')]"
      ]
     },
     "execution_count": 297,
     "metadata": {},
     "output_type": "execute_result"
    }
   ],
   "source": [
    "unit_reg.findall(recipe)"
   ]
  },
  {
   "cell_type": "code",
   "execution_count": 121,
   "id": "8f8d6f88-6de2-4b6a-af0b-3a57f8f484fa",
   "metadata": {},
   "outputs": [
    {
     "data": {
      "text/plain": [
       "0.5"
      ]
     },
     "execution_count": 121,
     "metadata": {},
     "output_type": "execute_result"
    }
   ],
   "source": [
    "test_w = None\n",
    "if '/' in unit_reg.findall(recipe2)[4][1]:\n",
    "    test_w = int(unit_reg.findall(recipe2)[4][1].split('/')[0]) / int(unit_reg.findall(recipe2)[4][1].split('/')[1])\n",
    "\n",
    "test_w"
   ]
  },
  {
   "cell_type": "code",
   "execution_count": 153,
   "id": "f4eea94a-57b7-42a5-b135-2fe99127ed23",
   "metadata": {},
   "outputs": [
    {
     "data": {
      "text/plain": [
       "'cup'"
      ]
     },
     "execution_count": 153,
     "metadata": {},
     "output_type": "execute_result"
    }
   ],
   "source": [
    "unit_reg.findall(recipe2)[1][4]"
   ]
  },
  {
   "cell_type": "code",
   "execution_count": 111,
   "id": "a09328c1-dc06-45f1-801c-526491066f8b",
   "metadata": {},
   "outputs": [
    {
     "data": {
      "text/plain": [
       "[('2 lb', '2', '', '', 'lb'),\n",
       " ('1 kg', '1', '', '', 'kg'),\n",
       " ('3 large', '3', '', '', 'large'),\n",
       " ('3 tsp', '3', '', '', 'tsp'),\n",
       " ('1 tbsp', '1', '', '', 'tbsp'),\n",
       " ('3 tbsp', '3', '', '', 'tbsp'),\n",
       " ('1 tbsp', '1', '', '', 'tbsp'),\n",
       " ('3 tbsp', '3', '', '', 'tbsp'),\n",
       " ('1 1', '1', '', '', '1'),\n",
       " ('2 tbsp', '2', '', '', 'tbsp'),\n",
       " ('1 tsp', '1', '', '', 'tsp'),\n",
       " ('2 cucumbers', '2', '', '', 'cucumbers'),\n",
       " ('3/4 cup', '3/4', '', '', 'cup'),\n",
       " ('1 1', '1', '', '', '1'),\n",
       " ('4 cups', '4', '', '', 'cups'),\n",
       " ('1 tbsp', '1', '', '', 'tbsp'),\n",
       " ('1 tbsp', '1', '', '', 'tbsp'),\n",
       " ('1 garlic', '1', '', '', 'garlic'),\n",
       " ('1/4 tsp', '1/4', '', '', 'tsp'),\n",
       " ('3 tomatoes', '3', '', '', 'tomatoes'),\n",
       " ('3 cucumbers', '3', '', '', 'cucumbers'),\n",
       " ('1/2 red', '1/2', '', '', 'red'),\n",
       " ('1/4 cup', '1/4', '', '', 'cup'),\n",
       " ('4 to', '4', '', '', 'to'),\n",
       " ('6 pita', '6', '', '', 'pita')]"
      ]
     },
     "execution_count": 111,
     "metadata": {},
     "output_type": "execute_result"
    }
   ],
   "source": [
    "unit_reg.findall(recipe)"
   ]
  },
  {
   "cell_type": "markdown",
   "id": "949042e3-4422-4b7f-bd38-e23537cbd409",
   "metadata": {},
   "source": [
    "## Conversions"
   ]
  },
  {
   "cell_type": "code",
   "execution_count": 27,
   "id": "a85f93e5-b9b8-434a-a871-78419e1e7434",
   "metadata": {},
   "outputs": [],
   "source": [
    "def cup_to_ml(cups):\n",
    "    ml = str(round(cups * 236.588,2)) + ' ml'\n",
    "    return ml\n",
    "\n",
    "def oz_to_g(oz):\n",
    "    g = str(round(oz * 28.3495, 2)) + ' g'\n",
    "    return g\n",
    "\n",
    "def tbsp_to_ml(tbsp):\n",
    "    ml = str(round(tbsp * 14.7868,2)) + ' ml'\n",
    "    return ml\n",
    "\n",
    "def tsp_to_ml(tsp):\n",
    "    ml = str(round(tsp * 4.92892, 2)) + ' ml'\n",
    "    return ml\n",
    "\n",
    "def lbs_to_metric(lbs):\n",
    "    if lbs > 2.2:\n",
    "        metric = str(round(lbs * 0.453592, 2)) + ' kg'\n",
    "    else:\n",
    "        metric = str(round(lbs * 453.592, 2)) + ' g'\n",
    "    return metric"
   ]
  },
  {
   "cell_type": "code",
   "execution_count": 35,
   "id": "50a6b625-5f5d-4155-b1da-cfb4ab9a4bff",
   "metadata": {},
   "outputs": [],
   "source": [
    "#The issue is with converting the fractions\n",
    "#After seeing the issue might be with the regex, have changed the order it looks for the initial digit, looking for the fraction first, then an integer\n",
    "#This must be the issue as the lone 1/4tsp of salt gets converted fine\n",
    "\n",
    "import pprint\n",
    "def convert_weight_units(text):\n",
    "\n",
    "    weights = unit_reg.findall(text)\n",
    "\n",
    "    #Next, loop and convert...\n",
    "\n",
    "    for w in weights:                        #Determining the first number\n",
    "        d = 0\n",
    "        n = 0\n",
    "        if '.' in w[1]:\n",
    "            n = float(w[1])                  #If a decimal is found, n = that as a float\n",
    "        elif '/' in w[1]:\n",
    "            if ' ' in w[1]:\n",
    "                n = int(w[1].split(' ')[0])                                 #whole Number\n",
    "                f = w[1].split(' ')[1]                                 #Fraction\n",
    "                d = int(f.split('/')[0]) / int(f.split('/')[1])        #Decimal\n",
    "            else:\n",
    "                d = int(w[1].split('/')[0]) / int(w[1].split('/')[1])      #If a slash is present, split either side and calculate the value\n",
    "        else:\n",
    "            n = int(w[1])                    #Otherwise, it's a whole number\n",
    "\n",
    "        no_to_convert = n + d                           #The actual amount that needs to be converted e.g. 1.5\n",
    "#Having some trouble here on where everything should go, but this has created the number to convert within the loop, so I can work with it\n",
    "    #If I remain within the loop\n",
    "\n",
    "        unit = w[3]                     # unit will equal the measurement unit e.g. lbs\n",
    "        pattern = str(w[0])             # The pattern to replace is equal to the entire string captured in the [0] group\n",
    "       \n",
    "        if unit in ('lbs','pounds','lb','pound'):\n",
    "            text= re.sub(pattern, lbs_to_metric(no_to_convert), text)                #pounds to g or kg\n",
    "        elif unit in ('tsp','tsps','teaspoon','teaspoons'):\n",
    "            text= re.sub(pattern, tsp_to_ml(no_to_convert), text)                      #teaspoons to ml\n",
    "        elif unit in ('tbsp','tbsps','tablespoon','tablespoons'):\n",
    "            text= re.sub(pattern, tbsp_to_ml(no_to_convert), text)                      #Tablespoons to ml\n",
    "        elif unit in ('cup','cups','c'):\n",
    "            text= re.sub(pattern, cup_to_ml(no_to_convert), text)                       #Cups to ml\n",
    "        elif unit in ('oz','ozs','ounce','ounces'):\n",
    "            text= re.sub(pattern, oz_to_g(no_to_convert), text)                        #Ounces to grams\n",
    "\n",
    "    pprint.pprint(text)"
   ]
  },
  {
   "cell_type": "code",
   "execution_count": 36,
   "id": "aaca2137-f8de-4f66-9d74-606a46c039b8",
   "metadata": {},
   "outputs": [
    {
     "name": "stdout",
     "output_type": "stream",
     "text": [
      "('1 (12-count) package) Hawaiian rolls\\n'\n",
      " '\\n'\n",
      " '236.59 ml apple pie filling\\n'\n",
      " '\\n'\n",
      " '2 (20.98 g) pouches apple cider powdered drink mix (such as Alpine Spiced '\n",
      " 'Apple Cider®)\\n'\n",
      " '\\n'\n",
      " '73.93 ml butter, divided\\n'\n",
      " '\\n'\n",
      " '118.29 ml sugar\\n'\n",
      " '\\n'\n",
      " '4.93 ml cinnamon')\n"
     ]
    }
   ],
   "source": [
    "convert_weight_units(recipe2)"
   ]
  },
  {
   "cell_type": "code",
   "execution_count": 32,
   "id": "b3c34fda-bd20-4e25-8364-bfdb0b93c72d",
   "metadata": {},
   "outputs": [
    {
     "name": "stdout",
     "output_type": "stream",
     "text": [
      "('Ingredients\\n'\n",
      " '▢907.18 g / 1 kg chicken thigh fillets , boneless skinless\\n'\n",
      " 'Marinade\\n'\n",
      " '▢3 large garlic cloves , minced (~ 14.79 ml)\\n'\n",
      " '▢14.79 ml white wine vinegar (or red wine or apple cider vinegar)\\n'\n",
      " '▢44.36 ml lemon juice\\n'\n",
      " '▢14.79 ml extra virgin olive oil\\n'\n",
      " '▢44.36 ml Greek yogurt , preferably full fat\\n'\n",
      " '▢22.18 ml dried oregano\\n'\n",
      " '▢4.93 ml salt\\n'\n",
      " '▢Black pepper\\n'\n",
      " 'Tzatziki\\n'\n",
      " '▢2 cucumbers (to make about 1/2 – 177.44 ml grated cucumber after squeezing '\n",
      " 'out juice)\\n'\n",
      " '▢295.74 ml Greek yoghurt , preferably full fat\\n'\n",
      " '▢14.79 ml lemon juice\\n'\n",
      " '▢14.79 ml extra virgin olive oil (or more if you want richer)\\n'\n",
      " '▢1 garlic clove , minced\\n'\n",
      " '▢1.23 ml salt\\n'\n",
      " '▢Black pepper\\n'\n",
      " 'Salad\\n'\n",
      " '▢3 tomatoes , desseeded and diced\\n'\n",
      " '▢3 cucumbers , diced\\n'\n",
      " '▢1/2 red spanish onion , peeled and finely chopped\\n'\n",
      " '▢59.15 ml fresh parsley leaves (optional)\\n'\n",
      " '▢Salt and pepper\\n'\n",
      " 'To Serve\\n'\n",
      " '▢4 to 6 pita breads or flat breads')\n"
     ]
    }
   ],
   "source": [
    "convert_weight_units(recipe)"
   ]
  },
  {
   "cell_type": "code",
   "execution_count": null,
   "id": "8d37238f-988f-4933-9e3f-484d287126a9",
   "metadata": {},
   "outputs": [],
   "source": []
  }
 ],
 "metadata": {
  "kernelspec": {
   "display_name": "Python [conda env:base] *",
   "language": "python",
   "name": "conda-base-py"
  },
  "language_info": {
   "codemirror_mode": {
    "name": "ipython",
    "version": 3
   },
   "file_extension": ".py",
   "mimetype": "text/x-python",
   "name": "python",
   "nbconvert_exporter": "python",
   "pygments_lexer": "ipython3",
   "version": "3.12.7"
  }
 },
 "nbformat": 4,
 "nbformat_minor": 5
}
