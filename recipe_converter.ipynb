{
 "cells": [
  {
   "cell_type": "markdown",
   "id": "8909b3f3-db81-41fa-b0c5-9f6bc4b86310",
   "metadata": {},
   "source": [
    "#### Notes\n",
    "\n",
    "Regular expression to find every instance of a weight, usually with whatever unit of measurement comes after it. Saved an example below.\n",
    "\n",
    "Current expressions are omitting the 1/2 and 1/4 weights, would need to account for decimals too.\n",
    "\n",
    "Then, a loop to replace each one...\n",
    "\n",
    "Current Issues:\n",
    "\n",
    "1. The part in recipe where it says 'to make 1/2 to 3/4 cup', regex is only finding the second one\n",
    "2. The worst problem is that regex is finding lone fractions e.g. 1/4 tsp salt, and working fine, but with \"1 1/2 tbsp\", it only captures \"2 tbsp\""
   ]
  },
  {
   "cell_type": "code",
   "execution_count": 75,
   "id": "482d4ebe-9a8e-4cea-bd8c-4cb9668763c3",
   "metadata": {},
   "outputs": [],
   "source": [
    "# https://www.recipetineats.com/greek-chicken-gyros-with-tzatziki/comment-page-34/#recipe\n",
    "recipe = '''Ingredients\n",
    "▢2 lb / 1 kg chicken thigh fillets , boneless skinless\n",
    "Marinade\n",
    "▢3 large garlic cloves , minced (~ 3 tsp)\n",
    "▢1 tbsp white wine vinegar (or red wine or apple cider vinegar)\n",
    "▢3 tbsp lemon juice\n",
    "▢1 tbsp extra virgin olive oil\n",
    "▢3 tbsp Greek yogurt , preferably full fat\n",
    "▢1 1/2 tbsp dried oregano\n",
    "▢1 tsp salt\n",
    "▢Black pepper\n",
    "Tzatziki\n",
    "▢2 cucumbers (to make about 1/2 – 3/4 cup grated cucumber after squeezing out juice)\n",
    "▢1 1/4 cups Greek yoghurt , preferably full fat\n",
    "▢1 tbsp lemon juice\n",
    "▢1 tbsp extra virgin olive oil (or more if you want richer)\n",
    "▢1 garlic clove , minced\n",
    "▢1/4 tsp salt\n",
    "▢Black pepper\n",
    "Salad\n",
    "▢3 tomatoes , desseeded and diced\n",
    "▢3 cucumbers , diced\n",
    "▢1/2 red spanish onion , peeled and finely chopped\n",
    "▢1/4 cup fresh parsley leaves (optional)\n",
    "▢Salt and pepper\n",
    "To Serve\n",
    "▢4 to 6 pita breads or flat breads'''\n",
    "\n",
    "\n",
    "recipe2 = '''1 (12-count) package) Hawaiian rolls\n",
    "\n",
    "1 cup apple pie filling\n",
    "\n",
    "2 (0.74 ounce) pouches apple cider powdered drink mix (such as Alpine Spiced Apple Cider®)\n",
    "\n",
    "5 tablespoons butter, divided\n",
    "\n",
    "1/2 cup sugar\n",
    "\n",
    "1 teaspoon cinnamon'''"
   ]
  },
  {
   "cell_type": "code",
   "execution_count": 2,
   "id": "3eb6a406-6a87-40ce-9a9c-9129e352e8ca",
   "metadata": {},
   "outputs": [],
   "source": [
    "import re"
   ]
  },
  {
   "cell_type": "markdown",
   "id": "d3b39110-db8e-4853-8df2-13c1d265ba22",
   "metadata": {},
   "source": [
    "#### Lbs\n",
    "\n",
    "Clear this needs some reworking as recipes can start with just the fraction"
   ]
  },
  {
   "cell_type": "code",
   "execution_count": 78,
   "id": "39094883-d218-4290-8b16-39fe282e5adf",
   "metadata": {},
   "outputs": [],
   "source": [
    "lb_reg = re.compile(r'''((\\d+|\\d+/\\d+) #Initial digit, captured for conversion\n",
    "(\\.\\d+)?                               #Optional decimal\n",
    "(?:\\s)*?                               #Optional whitespace\n",
    "(\\d+/\\d+)?                             #Optional fraction\n",
    "(lb(?:s)?|pound(?:s)?))''',re.X|re.I)  #For one or more lbs, captured for conversion"
   ]
  },
  {
   "cell_type": "code",
   "execution_count": 80,
   "id": "3d05b3dc-1475-48ed-a62b-ab5c9ae50cfa",
   "metadata": {},
   "outputs": [
    {
     "data": {
      "text/plain": [
       "[]"
      ]
     },
     "execution_count": 80,
     "metadata": {},
     "output_type": "execute_result"
    }
   ],
   "source": [
    "lb_reg.findall(recipe2)"
   ]
  },
  {
   "cell_type": "markdown",
   "id": "ba6f7a8c-3d8a-4f0d-ad8c-7720f5ab667d",
   "metadata": {},
   "source": [
    "#### tsp"
   ]
  },
  {
   "cell_type": "code",
   "execution_count": 70,
   "id": "1831122f-053c-405f-aecc-3f2b75863197",
   "metadata": {},
   "outputs": [],
   "source": [
    "tsp_reg = re.compile(r'''((\\d+|\\d+/\\d+) #Initial digit, captured for conversion\n",
    "(\\.\\d+)?                       #Optional decimal\n",
    "(?:\\s)*?                       #Optional whitespace\n",
    "(\\d+/\\d+)?                     #Optional fraction\n",
    "(tsp(?:s)?|teaspoon(?:s)?))''',re.X|re.I)             #For one or more lbs, captured for conversion"
   ]
  },
  {
   "cell_type": "code",
   "execution_count": 71,
   "id": "10d32443-7a7e-4e55-9635-b5fc698ab964",
   "metadata": {},
   "outputs": [
    {
     "data": {
      "text/plain": [
       "[('3 tsp', '3', '', '', 'tsp', ''),\n",
       " ('1 tsp', '1', '', '', 'tsp', ''),\n",
       " ('4 tsp', '4', '', '', 'tsp', '')]"
      ]
     },
     "execution_count": 71,
     "metadata": {},
     "output_type": "execute_result"
    }
   ],
   "source": [
    "tsp_reg.findall(recipe)"
   ]
  },
  {
   "cell_type": "markdown",
   "id": "edaaa0ee-5883-4ed8-a9bd-c46b54314e4f",
   "metadata": {},
   "source": [
    "#### TBSP"
   ]
  },
  {
   "cell_type": "code",
   "execution_count": 72,
   "id": "91ad061d-999e-4b4b-abb6-a92c7907baff",
   "metadata": {},
   "outputs": [],
   "source": [
    "tbsp_reg = re.compile(r'''((\\d+|\\d+/\\d+) #Initial digit, captured for conversion\n",
    "(\\.\\d+)?                       #Optional decimal\n",
    "(?:\\s)*?                       #Optional whitespace\n",
    "(\\d+/\\d+)?                     #Optional fraction\n",
    "(tbsp|tbsps|tablespoon(s)?))''',re.X|re.I)             #For one or more lbs, captured for conversion"
   ]
  },
  {
   "cell_type": "code",
   "execution_count": 73,
   "id": "56c85401-e93e-451a-90ea-a4ab081d7047",
   "metadata": {},
   "outputs": [
    {
     "data": {
      "text/plain": [
       "[('1 tbsp', '1', '', '', 'tbsp', ''),\n",
       " ('3 tbsp', '3', '', '', 'tbsp', ''),\n",
       " ('1 tbsp', '1', '', '', 'tbsp', ''),\n",
       " ('3 tbsp', '3', '', '', 'tbsp', ''),\n",
       " ('2 tbsp', '2', '', '', 'tbsp', ''),\n",
       " ('1 tbsp', '1', '', '', 'tbsp', ''),\n",
       " ('1 tbsp', '1', '', '', 'tbsp', '')]"
      ]
     },
     "execution_count": 73,
     "metadata": {},
     "output_type": "execute_result"
    }
   ],
   "source": [
    "tbsp_reg.findall(recipe)"
   ]
  },
  {
   "cell_type": "markdown",
   "id": "9187be02-a129-4ed2-ae34-cdb8cd75fbc6",
   "metadata": {},
   "source": [
    "#### Cups"
   ]
  },
  {
   "cell_type": "code",
   "execution_count": 83,
   "id": "dc708f7e-8130-4484-b462-828a803306f6",
   "metadata": {},
   "outputs": [],
   "source": [
    "cup_reg = re.compile(r'''((\\d+|\\d+/\\d+) #Initial digit, captured for conversion\n",
    "(\\.\\d+)?                       #Optional decimal\n",
    "(?:\\s)*?                       #Optional whitespace\n",
    "(\\d+/\\d+)?                     #Optional fraction\n",
    "(cup|cups|c))''',re.X|re.I)             #For one or more lbs, captured for conversion"
   ]
  },
  {
   "cell_type": "code",
   "execution_count": 82,
   "id": "a4788a91-32a9-41ca-928c-ac7a99522f60",
   "metadata": {},
   "outputs": [
    {
     "data": {
      "text/plain": [
       "[('1 cup', '1', '', '', 'cup'), ('1/2 cup', '1/2', '', '', 'cup')]"
      ]
     },
     "execution_count": 82,
     "metadata": {},
     "output_type": "execute_result"
    }
   ],
   "source": [
    "cup_reg.findall(recipe2)"
   ]
  },
  {
   "cell_type": "markdown",
   "id": "5cda5394-dbc5-4ac8-867a-0de3f826f008",
   "metadata": {},
   "source": [
    "#### Ounces"
   ]
  },
  {
   "cell_type": "code",
   "execution_count": 84,
   "id": "21880adf-452f-4e33-af15-921245d3f658",
   "metadata": {},
   "outputs": [],
   "source": [
    "cup_reg = re.compile(\n",
    "r'''((\\d+|\\d+/\\d+)             #Initial digit or fraction, captured for conversion\n",
    "(\\.\\d+)?                       #Optional decimal\n",
    "(?:\\s)*?                       #Optional whitespace\n",
    "(\\d+/\\d+)?                     #Optional fraction\n",
    "(ounce(?:s)?|oz(?:s)?))''',re.X|re.I) #For one or more lbs, captured for conversion"
   ]
  },
  {
   "cell_type": "markdown",
   "id": "05c62f06-65de-461a-9f1a-e8206847c4a4",
   "metadata": {},
   "source": [
    "#### Master"
   ]
  },
  {
   "cell_type": "code",
   "execution_count": 274,
   "id": "dac83df9-0390-4a4a-acfc-8b3cf07254db",
   "metadata": {},
   "outputs": [],
   "source": [
    "unit_reg = re.compile(\n",
    "r'''((\\d+|\\d+/\\d+)             #Initial digit or fraction, captured for conversion\n",
    "((\\.\\d+)?|(?:\\s)*?                       #Optional decimal\n",
    "(\\d+/\\d+)?                     #Optional fraction\n",
    "(\\w+))''',re.X|re.I) #For one or more lbs, captured for conversion"
   ]
  },
  {
   "cell_type": "code",
   "execution_count": 296,
   "id": "b226d5ec-4750-44f6-aa9e-4dd1976af278",
   "metadata": {},
   "outputs": [],
   "source": [
    "unit_reg = re.compile(r'''\n",
    "    (\n",
    "        (\\d+\\.\\d+           # decimal, e.g. 2.5\n",
    "        | \\d+\\s+(\\d+/\\d+)       # mixed fraction, e.g. 2 1/2\n",
    "        | \\d+/\\d+             # simple fraction, e.g. 2/3\n",
    "        | \\d+ )               # whole number, e.g. 2\n",
    "        \\s*                   # optional whitespace\n",
    "        (\\w+)                   # unit (any word)\n",
    "    )\n",
    "''', re.X | re.I)"
   ]
  },
  {
   "cell_type": "markdown",
   "id": "5cf6d884-e38d-4547-9dd3-fa60660fd2ba",
   "metadata": {},
   "source": [
    "#### Testing the Regex for digit and fraction"
   ]
  },
  {
   "cell_type": "code",
   "execution_count": 272,
   "id": "fc2aaa89-3466-40ec-956b-335a20e0a53a",
   "metadata": {},
   "outputs": [],
   "source": [
    "msg = '2 3/4 cups of something'\n",
    "test_reg = re.compile(r'(\\d+|\\d+/\\d+)(?:\\s*)?(\\d+/\\d+)?') #This works..."
   ]
  },
  {
   "cell_type": "code",
   "execution_count": 278,
   "id": "2b436ead-745e-44a4-b3ef-0d4778b046b6",
   "metadata": {},
   "outputs": [
    {
     "data": {
      "text/plain": [
       "'2 3/4 cups'"
      ]
     },
     "execution_count": 278,
     "metadata": {},
     "output_type": "execute_result"
    }
   ],
   "source": [
    "res = test_reg.search(msg)\n",
    "res.group()"
   ]
  },
  {
   "cell_type": "code",
   "execution_count": 287,
   "id": "ef4c480c-8e95-40ca-8345-6f66ea5bc5ae",
   "metadata": {},
   "outputs": [
    {
     "data": {
      "text/plain": [
       "'2 3/4 cups'"
      ]
     },
     "execution_count": 287,
     "metadata": {},
     "output_type": "execute_result"
    }
   ],
   "source": [
    "msg_d = '1 1/4 cups Greek yoghurt'\n",
    "res_d = test_reg.search(msg)\n",
    "res_d.group()"
   ]
  },
  {
   "cell_type": "code",
   "execution_count": 291,
   "id": "c1a85210-d562-43c0-9f6b-6cf466baebc1",
   "metadata": {},
   "outputs": [
    {
     "data": {
      "text/plain": [
       "[('12', '1', '', '', '2'),\n",
       " ('1 cup', '1', '', '', 'cup'),\n",
       " ('0.74 ounce', '0.74', '', '', 'ounce'),\n",
       " ('5 tablespoons', '5', '', '', 'tablespoons'),\n",
       " ('1/2 cup', '1/2', '', '', 'cup'),\n",
       " ('1 teaspoon', '1', '', '', 'teaspoon')]"
      ]
     },
     "execution_count": 291,
     "metadata": {},
     "output_type": "execute_result"
    }
   ],
   "source": [
    "unit_reg.findall(recipe2)"
   ]
  },
  {
   "cell_type": "code",
   "execution_count": 297,
   "id": "4f2fd346-5720-4557-8154-f76a1a7e117b",
   "metadata": {},
   "outputs": [
    {
     "data": {
      "text/plain": [
       "[('2 lb', '2', '', 'lb'),\n",
       " ('1 kg', '1', '', 'kg'),\n",
       " ('3 large', '3', '', 'large'),\n",
       " ('3 tsp', '3', '', 'tsp'),\n",
       " ('1 tbsp', '1', '', 'tbsp'),\n",
       " ('3 tbsp', '3', '', 'tbsp'),\n",
       " ('1 tbsp', '1', '', 'tbsp'),\n",
       " ('3 tbsp', '3', '', 'tbsp'),\n",
       " ('1 1/2 tbsp', '1 1/2', '1/2', 'tbsp'),\n",
       " ('1 tsp', '1', '', 'tsp'),\n",
       " ('2 cucumbers', '2', '', 'cucumbers'),\n",
       " ('3/4 cup', '3/4', '', 'cup'),\n",
       " ('1 1/4 cups', '1 1/4', '1/4', 'cups'),\n",
       " ('1 tbsp', '1', '', 'tbsp'),\n",
       " ('1 tbsp', '1', '', 'tbsp'),\n",
       " ('1 garlic', '1', '', 'garlic'),\n",
       " ('1/4 tsp', '1/4', '', 'tsp'),\n",
       " ('3 tomatoes', '3', '', 'tomatoes'),\n",
       " ('3 cucumbers', '3', '', 'cucumbers'),\n",
       " ('1/2 red', '1/2', '', 'red'),\n",
       " ('1/4 cup', '1/4', '', 'cup'),\n",
       " ('4 to', '4', '', 'to'),\n",
       " ('6 pita', '6', '', 'pita')]"
      ]
     },
     "execution_count": 297,
     "metadata": {},
     "output_type": "execute_result"
    }
   ],
   "source": [
    "unit_reg.findall(recipe)"
   ]
  },
  {
   "cell_type": "code",
   "execution_count": 121,
   "id": "8f8d6f88-6de2-4b6a-af0b-3a57f8f484fa",
   "metadata": {},
   "outputs": [
    {
     "data": {
      "text/plain": [
       "0.5"
      ]
     },
     "execution_count": 121,
     "metadata": {},
     "output_type": "execute_result"
    }
   ],
   "source": [
    "test_w = None\n",
    "if '/' in unit_reg.findall(recipe2)[4][1]:\n",
    "    test_w = int(unit_reg.findall(recipe2)[4][1].split('/')[0]) / int(unit_reg.findall(recipe2)[4][1].split('/')[1])\n",
    "\n",
    "test_w"
   ]
  },
  {
   "cell_type": "code",
   "execution_count": 153,
   "id": "f4eea94a-57b7-42a5-b135-2fe99127ed23",
   "metadata": {},
   "outputs": [
    {
     "data": {
      "text/plain": [
       "'cup'"
      ]
     },
     "execution_count": 153,
     "metadata": {},
     "output_type": "execute_result"
    }
   ],
   "source": [
    "unit_reg.findall(recipe2)[1][4]"
   ]
  },
  {
   "cell_type": "code",
   "execution_count": 111,
   "id": "a09328c1-dc06-45f1-801c-526491066f8b",
   "metadata": {},
   "outputs": [
    {
     "data": {
      "text/plain": [
       "[('2 lb', '2', '', '', 'lb'),\n",
       " ('1 kg', '1', '', '', 'kg'),\n",
       " ('3 large', '3', '', '', 'large'),\n",
       " ('3 tsp', '3', '', '', 'tsp'),\n",
       " ('1 tbsp', '1', '', '', 'tbsp'),\n",
       " ('3 tbsp', '3', '', '', 'tbsp'),\n",
       " ('1 tbsp', '1', '', '', 'tbsp'),\n",
       " ('3 tbsp', '3', '', '', 'tbsp'),\n",
       " ('1 1', '1', '', '', '1'),\n",
       " ('2 tbsp', '2', '', '', 'tbsp'),\n",
       " ('1 tsp', '1', '', '', 'tsp'),\n",
       " ('2 cucumbers', '2', '', '', 'cucumbers'),\n",
       " ('3/4 cup', '3/4', '', '', 'cup'),\n",
       " ('1 1', '1', '', '', '1'),\n",
       " ('4 cups', '4', '', '', 'cups'),\n",
       " ('1 tbsp', '1', '', '', 'tbsp'),\n",
       " ('1 tbsp', '1', '', '', 'tbsp'),\n",
       " ('1 garlic', '1', '', '', 'garlic'),\n",
       " ('1/4 tsp', '1/4', '', '', 'tsp'),\n",
       " ('3 tomatoes', '3', '', '', 'tomatoes'),\n",
       " ('3 cucumbers', '3', '', '', 'cucumbers'),\n",
       " ('1/2 red', '1/2', '', '', 'red'),\n",
       " ('1/4 cup', '1/4', '', '', 'cup'),\n",
       " ('4 to', '4', '', '', 'to'),\n",
       " ('6 pita', '6', '', '', 'pita')]"
      ]
     },
     "execution_count": 111,
     "metadata": {},
     "output_type": "execute_result"
    }
   ],
   "source": [
    "unit_reg.findall(recipe)"
   ]
  },
  {
   "cell_type": "markdown",
   "id": "949042e3-4422-4b7f-bd38-e23537cbd409",
   "metadata": {},
   "source": [
    "## Conversions"
   ]
  },
  {
   "cell_type": "code",
   "execution_count": 124,
   "id": "a60336b5-26f8-4497-935b-fb9de6860337",
   "metadata": {},
   "outputs": [],
   "source": [
    "#Original, only changed the last one so far\n",
    "def cup_to_ml(cups):\n",
    "    ml = cups * 237\n",
    "    return round(ml, 2)\n",
    "\n",
    "def oz_to_g(oz):\n",
    "    g = oz * 28.3495\n",
    "    return round(g, 2)\n",
    "\n",
    "def tbsp_to_ml(tbsp):\n",
    "    ml = tbsp * 14.7868\n",
    "    return round(ml, 2)\n",
    "\n",
    "def tsp_to_ml(tsp):\n",
    "    ml = tsp * 4.92892\n",
    "    return round(ml, 2)\n",
    "\n",
    "def lbs_to_metric(lbs):\n",
    "    if lbs > 2.2:\n",
    "        metric = str(round(lbs * 0.453592, 2)) + ' kg'\n",
    "    else:\n",
    "        metric = str(round(lbs * 453.592, 2)) + ' g'\n",
    "    return metric"
   ]
  },
  {
   "cell_type": "code",
   "execution_count": 164,
   "id": "a85f93e5-b9b8-434a-a871-78419e1e7434",
   "metadata": {},
   "outputs": [],
   "source": [
    "def cup_to_ml(cups):\n",
    "    ml = str(round(cups * 237,2)) + ' ml'\n",
    "    return ml\n",
    "\n",
    "def oz_to_g(oz):\n",
    "    g = str(round(oz * 28.3495, 2)) + ' g'\n",
    "    return g\n",
    "\n",
    "def tbsp_to_ml(tbsp):\n",
    "    ml = str(round(tbsp * 14.7868,2)) + ' ml'\n",
    "    return ml\n",
    "\n",
    "def tsp_to_ml(tsp):\n",
    "    ml = str(round(tsp * 4.92892, 2)) + ' ml'\n",
    "    return ml\n",
    "\n",
    "def lbs_to_metric(lbs):\n",
    "    if lbs > 2.2:\n",
    "        metric = str(round(lbs * 0.453592, 2)) + ' kg'\n",
    "    else:\n",
    "        metric = str(round(lbs * 453.592, 2)) + ' g'\n",
    "    return metric"
   ]
  },
  {
   "cell_type": "code",
   "execution_count": null,
   "id": "638487bd-cebd-4916-804e-adfdc2a4fa84",
   "metadata": {},
   "outputs": [],
   "source": []
  },
  {
   "cell_type": "code",
   "execution_count": 125,
   "id": "78fd4e3b-23f7-4b3a-9fb7-1538c7c6d3fb",
   "metadata": {},
   "outputs": [
    {
     "data": {
      "text/plain": [
       "'113.4 kg'"
      ]
     },
     "execution_count": 125,
     "metadata": {},
     "output_type": "execute_result"
    }
   ],
   "source": [
    "lbs_to_metric(250)"
   ]
  },
  {
   "cell_type": "code",
   "execution_count": 102,
   "id": "8f754ff3-3c96-4dfc-b2bd-5a87ad33ee78",
   "metadata": {},
   "outputs": [
    {
     "data": {
      "text/plain": [
       "5925"
      ]
     },
     "execution_count": 102,
     "metadata": {},
     "output_type": "execute_result"
    }
   ],
   "source": [
    "cup_to_ml(25)"
   ]
  },
  {
   "cell_type": "code",
   "execution_count": 103,
   "id": "748c72ee-bc9b-4b93-938a-ce7f14a8e15d",
   "metadata": {},
   "outputs": [
    {
     "data": {
      "text/plain": [
       "340.19"
      ]
     },
     "execution_count": 103,
     "metadata": {},
     "output_type": "execute_result"
    }
   ],
   "source": [
    "oz_to_g(12)"
   ]
  },
  {
   "cell_type": "code",
   "execution_count": 104,
   "id": "a9cfc215-e2de-405d-8988-dd3acc2fb8e6",
   "metadata": {},
   "outputs": [
    {
     "data": {
      "text/plain": [
       "14.79"
      ]
     },
     "execution_count": 104,
     "metadata": {},
     "output_type": "execute_result"
    }
   ],
   "source": [
    "tsp_to_ml(3)"
   ]
  },
  {
   "cell_type": "markdown",
   "id": "bbf5ba41-4e25-4954-b0ef-86896762c18c",
   "metadata": {},
   "source": [
    "So, I think the best way I could do it is to run each sub in sequence and the conversion. This makes replacing the units easier. e.g. Run the sub for cups and the conversion for cups and finish that, then the program repeats for the next weight unit.\n",
    "\n",
    "OR\n",
    "\n",
    "Put them all together\n",
    "\n",
    "Structure:\n",
    "\n",
    "Full string[0] | First Unit[1] | Decimal or Fraction if not in first[2] | whitespace[3] | unit[4]"
   ]
  },
  {
   "cell_type": "code",
   "execution_count": null,
   "id": "2a00a8df-1d97-4fac-a6cd-8cb670569983",
   "metadata": {},
   "outputs": [],
   "source": [
    "def cup_to_ml(cups):\n",
    "    ml = str(round(cups * 237,2)) + ' ml'\n",
    "    return ml\n",
    "\n",
    "def oz_to_g(oz):\n",
    "    g = str(round(oz * 28.3495, 2)) + ' g'\n",
    "    return g\n",
    "\n",
    "def tbsp_to_ml(tbsp):\n",
    "    ml = str(round(tbsp * 14.7868,2)) + ' ml'\n",
    "    return ml\n",
    "\n",
    "def tsp_to_ml(tsp):\n",
    "    ml = str(round(tsp * 4.92892, 2)) + ' ml'\n",
    "    return ml\n",
    "\n",
    "def lbs_to_metric(lbs):\n",
    "    if lbs > 2.2:\n",
    "        metric = str(round(lbs * 0.453592, 2)) + ' kg'\n",
    "    else:\n",
    "        metric = str(round(lbs * 453.592, 2)) + ' g'\n",
    "    return metric"
   ]
  },
  {
   "cell_type": "code",
   "execution_count": 293,
   "id": "4b92f9ed-f8a0-4811-a187-00502b53ccb7",
   "metadata": {},
   "outputs": [],
   "source": [
    "#Generally working as is, some troubleshooting to go over!\n",
    "\n",
    "import pprint\n",
    "\n",
    "def convert_weight_units(text):\n",
    "    unit_reg = re.compile(\n",
    "    r'''((\\d+|\\d+/\\d+)             #Initial digit or fraction, captured for conversion\n",
    "    (\\.\\d+)?                       #Optional decimal\n",
    "    (?:\\s)*?                       #Optional whitespace\n",
    "    (\\d+/\\d+)?                     #Optional fraction\n",
    "    (\\w+))''',re.X|re.I) #For one or more lbs, captured for conversion\n",
    "\n",
    "    weights = unit_reg.findall(text)\n",
    "\n",
    "    #Next, loop and convert...\n",
    "\n",
    "    for w in weights:                                #Determining the first number\n",
    "        if '.' in w[1]:\n",
    "            m = float(w[1])                  #If a decimal is found, m = that as a float\n",
    "        elif '/' in w[1]:\n",
    "            m = int(w[1].split('/')[0]) / int(w[1].split('/')[1])    #If a slash is present, split either side and calculate the value\n",
    "        else:\n",
    "            m = int(w[1])                    #Otherwise, it's a whole number\n",
    "\n",
    "        if '.' in w[2]:                     # If decimals are found in position [2]\n",
    "            d = float(w[2])                 # Make it a float\n",
    "        elif '/' in w[2]:\n",
    "            d = int(w[2].split('/')[0]) / int(w[2].split('/')[1]) # Same as above for fractions\n",
    "        else:\n",
    "            d = 0                                  # If neither are present, we'll assume it's empty and d==0\n",
    "\n",
    "        no_to_convert = m + d                           #The actual amount that needs to be converted e.g. 1.5\n",
    "#Having some trouble here on where everything should go, but this has created the number to convert within the loop, so I can work with it\n",
    "    #If I remain within the loop\n",
    "\n",
    "        unit = w[4]\n",
    "        pattern = str(w[0])\n",
    "       \n",
    "        if unit in ('lbs','pounds','lb','pound'):\n",
    "            text= re.sub(pattern, lbs_to_metric(no_to_convert), text)                #pounds to g or kg\n",
    "        elif unit in ('tsp','tsps','teaspoon','teaspoons'):\n",
    "            text= re.sub(pattern, tsp_to_ml(no_to_convert), text)                      #teaspoons to ml\n",
    "        elif unit in ('tbsp','tbsps','tablespoon','tablespoons'):\n",
    "            text= re.sub(pattern, tbsp_to_ml(no_to_convert), text)                      #Tablespoons to ml\n",
    "        elif unit in ('cup','cups','c'):\n",
    "            text= re.sub(pattern, cup_to_ml(no_to_convert), text)                       #Cups to ml\n",
    "        elif unit in ('oz','ozs','ounce','ounces'):\n",
    "            text= re.sub(pattern, oz_to_g(no_to_convert), text)                        #Ounces to grams\n",
    "\n",
    "    pprint.pprint(text)"
   ]
  },
  {
   "cell_type": "code",
   "execution_count": 294,
   "id": "50a6b625-5f5d-4155-b1da-cfb4ab9a4bff",
   "metadata": {},
   "outputs": [],
   "source": [
    "#The issue is with converting the fractions\n",
    "#After seeing the issue might be with the regex, have changed the order it looks for the initial digit, looking for the fraction first, then an integer\n",
    "#This must be the issue as the lone 1/4tsp of salt gets converted fine\n",
    "\n",
    "import pprint\n",
    "def convert_weight_units(text):\n",
    "\n",
    "    weights = unit_reg.findall(text)\n",
    "\n",
    "    #Next, loop and convert...\n",
    "\n",
    "    for w in weights:                                #Determining the first number\n",
    "        if '.' in w[1]:\n",
    "            m = float(w[1])                  #If a decimal is found, m = that as a float\n",
    "        elif '/' in w[1]:\n",
    "            m = int(w[1].split('/')[0]) / int(w[1].split('/')[1])    #If a slash is present, split either side and calculate the value\n",
    "        else:\n",
    "            m = int(w[1])                    #Otherwise, it's a whole number\n",
    "\n",
    "        if '.' in w[2]:                     # If decimals are found in position [2]\n",
    "            d = float(w[2])                 # Make it a float\n",
    "        elif '/' in w[2]:\n",
    "            d = int(w[2].split('/')[0]) / int(w[2].split('/')[1]) # Same as above for fractions\n",
    "        else:\n",
    "            d = 0                                  # If neither are present, we'll assume it's empty and d==0\n",
    "\n",
    "        no_to_convert = m + d                           #The actual amount that needs to be converted e.g. 1.5\n",
    "#Having some trouble here on where everything should go, but this has created the number to convert within the loop, so I can work with it\n",
    "    #If I remain within the loop\n",
    "\n",
    "        unit = w[4]                     # unit will equal the measurement unit e.g. lbs\n",
    "        pattern = str(w[0])             # The pattern to replace is equal to the entire string captured in the [0] group\n",
    "       \n",
    "        if unit in ('lbs','pounds','lb','pound'):\n",
    "            text= re.sub(pattern, lbs_to_metric(no_to_convert), text)                #pounds to g or kg\n",
    "        elif unit in ('tsp','tsps','teaspoon','teaspoons'):\n",
    "            text= re.sub(pattern, tsp_to_ml(no_to_convert), text)                      #teaspoons to ml\n",
    "        elif unit in ('tbsp','tbsps','tablespoon','tablespoons'):\n",
    "            text= re.sub(pattern, tbsp_to_ml(no_to_convert), text)                      #Tablespoons to ml\n",
    "        elif unit in ('cup','cups','c'):\n",
    "            text= re.sub(pattern, cup_to_ml(no_to_convert), text)                       #Cups to ml\n",
    "        elif unit in ('oz','ozs','ounce','ounces'):\n",
    "            text= re.sub(pattern, oz_to_g(no_to_convert), text)                        #Ounces to grams\n",
    "\n",
    "    pprint.pprint(text)"
   ]
  },
  {
   "cell_type": "code",
   "execution_count": 226,
   "id": "d8794066-f771-47a3-9ea0-26b6eba39719",
   "metadata": {},
   "outputs": [],
   "source": [
    "test_w = None\n",
    "oregano = unit_reg.findall(recipe)[6][2]\n",
    "if '/' in oregano:\n",
    "    test_w = int(oregano.split('/')[0]) / int(oregano.split('/')[1])\n",
    "\n",
    "test_w"
   ]
  },
  {
   "cell_type": "code",
   "execution_count": 213,
   "id": "71943826-9ba1-4c87-bf93-06ce6d75644e",
   "metadata": {},
   "outputs": [
    {
     "data": {
      "text/plain": [
       "''"
      ]
     },
     "execution_count": 213,
     "metadata": {},
     "output_type": "execute_result"
    }
   ],
   "source": [
    "oregano"
   ]
  },
  {
   "cell_type": "code",
   "execution_count": 261,
   "id": "9533b606-826d-405b-9a92-35406f43dd01",
   "metadata": {},
   "outputs": [
    {
     "data": {
      "text/plain": [
       "('2 tbsp', '2', '', '', 'tbsp')"
      ]
     },
     "execution_count": 261,
     "metadata": {},
     "output_type": "execute_result"
    }
   ],
   "source": [
    "unit_reg.findall(recipe)[9] # I think this is it... which means it's the regex causing the issue?"
   ]
  },
  {
   "cell_type": "code",
   "execution_count": 257,
   "id": "a13c4c18-101c-4a7f-a858-db29f4da9926",
   "metadata": {},
   "outputs": [
    {
     "data": {
      "text/plain": [
       "'1'"
      ]
     },
     "execution_count": 257,
     "metadata": {},
     "output_type": "execute_result"
    }
   ],
   "source": [
    "unit_reg.findall(recipe)[6][1]"
   ]
  },
  {
   "cell_type": "code",
   "execution_count": 295,
   "id": "eac36107-6a8d-435f-85f2-0eac9bcb72d7",
   "metadata": {},
   "outputs": [
    {
     "ename": "ValueError",
     "evalue": "invalid literal for int() with base 10: '1 1'",
     "output_type": "error",
     "traceback": [
      "\u001b[1;31m---------------------------------------------------------------------------\u001b[0m",
      "\u001b[1;31mValueError\u001b[0m                                Traceback (most recent call last)",
      "Cell \u001b[1;32mIn[295], line 1\u001b[0m\n\u001b[1;32m----> 1\u001b[0m convert_weight_units(recipe)\n",
      "Cell \u001b[1;32mIn[294], line 16\u001b[0m, in \u001b[0;36mconvert_weight_units\u001b[1;34m(text)\u001b[0m\n\u001b[0;32m     14\u001b[0m     m \u001b[38;5;241m=\u001b[39m \u001b[38;5;28mfloat\u001b[39m(w[\u001b[38;5;241m1\u001b[39m])                  \u001b[38;5;66;03m#If a decimal is found, m = that as a float\u001b[39;00m\n\u001b[0;32m     15\u001b[0m \u001b[38;5;28;01melif\u001b[39;00m \u001b[38;5;124m'\u001b[39m\u001b[38;5;124m/\u001b[39m\u001b[38;5;124m'\u001b[39m \u001b[38;5;129;01min\u001b[39;00m w[\u001b[38;5;241m1\u001b[39m]:\n\u001b[1;32m---> 16\u001b[0m     m \u001b[38;5;241m=\u001b[39m \u001b[38;5;28mint\u001b[39m(w[\u001b[38;5;241m1\u001b[39m]\u001b[38;5;241m.\u001b[39msplit(\u001b[38;5;124m'\u001b[39m\u001b[38;5;124m/\u001b[39m\u001b[38;5;124m'\u001b[39m)[\u001b[38;5;241m0\u001b[39m]) \u001b[38;5;241m/\u001b[39m \u001b[38;5;28mint\u001b[39m(w[\u001b[38;5;241m1\u001b[39m]\u001b[38;5;241m.\u001b[39msplit(\u001b[38;5;124m'\u001b[39m\u001b[38;5;124m/\u001b[39m\u001b[38;5;124m'\u001b[39m)[\u001b[38;5;241m1\u001b[39m])    \u001b[38;5;66;03m#If a slash is present, split either side and calculate the value\u001b[39;00m\n\u001b[0;32m     17\u001b[0m \u001b[38;5;28;01melse\u001b[39;00m:\n\u001b[0;32m     18\u001b[0m     m \u001b[38;5;241m=\u001b[39m \u001b[38;5;28mint\u001b[39m(w[\u001b[38;5;241m1\u001b[39m])                    \u001b[38;5;66;03m#Otherwise, it's a whole number\u001b[39;00m\n",
      "\u001b[1;31mValueError\u001b[0m: invalid literal for int() with base 10: '1 1'"
     ]
    }
   ],
   "source": [
    "convert_weight_units(recipe)"
   ]
  },
  {
   "cell_type": "code",
   "execution_count": 181,
   "id": "b49f5c1d-c88d-419c-a8d5-44a743520816",
   "metadata": {},
   "outputs": [
    {
     "name": "stdout",
     "output_type": "stream",
     "text": [
      "1 (237 ml-count) package) Hawaiian rolls\n",
      "\n",
      "237 ml apple pie filling\n",
      "\n",
      "2 (237 ml) pouches apple cider powdered drink mix (such as Alpine Spiced Apple Cider®)\n",
      "\n",
      "237 ml butter, divided\n",
      "\n",
      "237 ml sugar\n",
      "\n",
      "237 ml cinnamon\n"
     ]
    }
   ],
   "source": [
    "convert_weight_units(recipe2)"
   ]
  },
  {
   "cell_type": "code",
   "execution_count": 151,
   "id": "4f03e148-8f5a-4582-92ed-1e9b74edce72",
   "metadata": {},
   "outputs": [
    {
     "data": {
      "text/plain": [
       "'1 (907.18 g-count) package) Hawaiian rolls\\n\\n907.18 g apple pie filling\\n\\n2 (907.18 g) pouches apple cider powdered drink mix (such as Alpine Spiced Apple Cider®)\\n\\n907.18 g butter, divided\\n\\n907.18 g sugar\\n\\n907.18 g cinnamon'"
      ]
     },
     "execution_count": 151,
     "metadata": {},
     "output_type": "execute_result"
    }
   ],
   "source": [
    "unit_reg.sub(lbs_to_metric(2), recipe2)  "
   ]
  },
  {
   "cell_type": "code",
   "execution_count": 159,
   "id": "29ee6ede-ff14-458f-96e6-4d155911652f",
   "metadata": {},
   "outputs": [],
   "source": [
    "if cup_reg.findall(recipe2)[0][4] in ('cup','cups','c'):\n",
    "    print(unit_reg.sub('hullabalooh', recipe2))"
   ]
  },
  {
   "cell_type": "code",
   "execution_count": null,
   "id": "9823bb5c-7fbb-45a1-aadd-58903ec7eb0b",
   "metadata": {},
   "outputs": [],
   "source": []
  }
 ],
 "metadata": {
  "kernelspec": {
   "display_name": "Python [conda env:base] *",
   "language": "python",
   "name": "conda-base-py"
  },
  "language_info": {
   "codemirror_mode": {
    "name": "ipython",
    "version": 3
   },
   "file_extension": ".py",
   "mimetype": "text/x-python",
   "name": "python",
   "nbconvert_exporter": "python",
   "pygments_lexer": "ipython3",
   "version": "3.12.7"
  }
 },
 "nbformat": 4,
 "nbformat_minor": 5
}
